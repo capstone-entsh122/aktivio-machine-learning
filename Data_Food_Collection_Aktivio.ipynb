{
  "cells": [
    {
      "cell_type": "markdown",
      "metadata": {
        "id": "Ro9mv-bfSad1"
      },
      "source": [
        "## Data collection for Food Image Classification by Web Scrapping from Python library to download bulk images from Bing"
      ]
    },
    {
      "cell_type": "markdown",
      "metadata": {
        "id": "gpfP0V13TPi3"
      },
      "source": [
        "### Installation"
      ]
    },
    {
      "cell_type": "code",
      "execution_count": null,
      "metadata": {
        "id": "Jb6AMTUfSN1Z"
      },
      "outputs": [],
      "source": [
        "pip install bing-image-downloader"
      ]
    },
    {
      "cell_type": "markdown",
      "metadata": {
        "id": "2epB_cIEUVVk"
      },
      "source": [
        "### Usage"
      ]
    },
    {
      "cell_type": "code",
      "execution_count": null,
      "metadata": {
        "id": "mKHStLA-UNHT"
      },
      "outputs": [],
      "source": [
        "from bing_image_downloader import downloader\n",
        "\n",
        "query_string = [\n",
        "        'Ayam Goreng', 'Bakso', 'Bubur Ayam', 'Mi Goreng', 'Nasi Putih', 'Sate', 'Soto', 'Telur Dadar', 'Telur Mata Sapi',\n",
        "        'bakwan', 'batagor', 'bihun goreng', 'ca sayur', 'cake', 'cumi asam manis', 'cumi goreng tepung', 'dimsum', 'donat',\n",
        "        'gado gado', 'ikan goreng', 'kentang goreng', 'martabak', 'mie ayam', 'nasi goreng', 'nasi kuning', 'nasi padang',\n",
        "        'pecel', 'pempek', 'pepes ikan', 'perkedel', 'rawon', 'rendang', 'salad buah', 'sayur asem', 'singkong goreng',\n",
        "        'sop daging sapi', 'tempe goreng', 'tongseng kambing', 'yoghurt'\n",
        "    ]\n",
        "\n",
        "downloader.download(query_string, limit=100, output_dir='dataset', adult_filter_off=True, force_replace=False, timeout=60, verbose=True)"
      ]
    },
    {
      "cell_type": "markdown",
      "metadata": {
        "id": "xlaDsyuCVIwR"
      },
      "source": [
        "**Description**\n",
        "```\n",
        "- query_string : String to be searched.\n",
        "- limit : (optional, default is 100) Number of images to download.\n",
        "- output_dir : (optional, default is 'dataset') Name of output dir.\n",
        "- adult_filter_off : (optional, default is True) Enable of disable adult filteration.\n",
        "- force_replace : (optional, default is False) Delete folder if present and start a fresh download.\n",
        "- timeout : (optional, default is 60) timeout for connection in seconds.\n",
        "- filter : (optional, default is \"\") filter, choose from [line, photo, clipart, gif, transparent]\n",
        "- verbose : (optional, default is True) Enable downloaded message.\n",
        "```\n",
        "\n"
      ]
    }
  ],
  "metadata": {
    "colab": {
      "provenance": []
    },
    "kernelspec": {
      "display_name": "Python 3",
      "name": "python3"
    },
    "language_info": {
      "name": "python"
    }
  },
  "nbformat": 4,
  "nbformat_minor": 0
}
